{
 "cells": [
  {
   "cell_type": "markdown",
   "metadata": {},
   "source": [
    "env :   python3.7\n"
   ]
  },
  {
   "cell_type": "markdown",
   "metadata": {},
   "source": [
    "参考源 https://zhuanlan.zhihu.com/p/46368084"
   ]
  },
  {
   "cell_type": "markdown",
   "metadata": {},
   "source": [
    "---\n",
    "## Python多进程和多线程哪个快?\n",
    "- 对CPU密集型代码(比如循环计算) - 多进程效率更高\n",
    "- 对IO密集型代码(比如文件操作，网络爬虫) - 多线程效率更高。\n"
   ]
  },
  {
   "cell_type": "markdown",
   "metadata": {},
   "source": [
    "---"
   ]
  },
  {
   "cell_type": "markdown",
   "metadata": {},
   "source": [
    "## Python的多进程编程与multiprocess模块"
   ]
  },
  {
   "cell_type": "code",
   "execution_count": null,
   "metadata": {},
   "outputs": [],
   "source": [
    "from multiprocessing import Process\n",
    "import os\n",
    "import time\n",
    "\n",
    "\n",
    "def long_time_task(i):\n",
    "    pass\n",
    "\n",
    "if __name__=='__main__':\n",
    "    p1 = Process(target=long_time_task, args=(1,))\n",
    "    p2 = Process(target=long_time_task, args=(2,))\n",
    "    p1.start()\n",
    "    p2.start()\n",
    "    p1.join()\n",
    "    p2.join()\n",
    "    end = time.time()\n",
    "    print(\"总共用时{}秒\".format((end - start)))"
   ]
  },
  {
   "cell_type": "markdown",
   "metadata": {},
   "source": [
    "## 利用multiprocess模块的Pool类创建多进程"
   ]
  },
  {
   "cell_type": "markdown",
   "metadata": {},
   "source": [
    "Pool类可以解决大量创建进程的问题。通过传递参数限制并发进程的数量，默认值为CPU的核数"
   ]
  },
  {
   "cell_type": "code",
   "execution_count": 1,
   "metadata": {},
   "outputs": [],
   "source": [
    "\n"
   ]
  },
  {
   "cell_type": "code",
   "execution_count": null,
   "metadata": {},
   "outputs": [],
   "source": [
    "from multiprocessing import Pool, cpu_count # cpu_count CPU内核数 \n",
    "import os\n",
    "import time\n",
    "\n",
    "# 注意同时运行的进程数取决于你的CPU核心。\n",
    "    # 这也决定了进程池的容量。\n",
    "\n",
    "def task(i):\n",
    "    print('start:\\n 子进程: {} - 任务{}'.format(os.getpid(), i))\n",
    "        # os.getpid() 获取系统的进程id\n",
    "    time.sleep(2)\n",
    "    print('finished:\\n 子进程: {} - 任务{}'.format(os.getpid(), i))\n",
    "\n",
    "\n",
    "if __name__=='__main__':\n",
    "    print(\"CPU内核数:{}\".format(cpu_count()))\n",
    "    print('当前母进程: {}'.format(os.getpid()))\n",
    "    start = time.time()\n",
    "        # 记录当前系统时间\n",
    "    p = Pool(2)\n",
    "        # 进程池的容量为2\n",
    "    for i in range(3):\n",
    "        # 排了3个任务。\n",
    "        p.apply_async(long_time_task, args=(i,))\n",
    "            # \n",
    "    print('等待所有子进程完成。')\n",
    "    p.close()\n",
    "        # \n",
    "    p.join()\n",
    "        #\n",
    "    end = time.time()\n",
    "        # 记录当前系统时间\n",
    "    print(\"总共用时{}秒\".format((end - start)))\n",
    "    \n",
    "#Pool类的几个方法：\n",
    "    # apply_async  # 向进程池提交需要执行的函数及参数。 进程池的各个进程是非阻塞（异步）的。\n",
    "    # map  与内置的map函数用法行为基本一致，它会使进程阻塞直到结果返回。\n",
    "    # map_async  非阻塞的map\n",
    "    # close  关闭线程池(Pool),不再接受新任务\n",
    "    # terminate   结束工作进程，不在处理未处理的任务\n",
    "    # join  主进程阻塞等待子进程的退出， join方法要在close或terminate之后使用"
   ]
  },
  {
   "cell_type": "markdown",
   "metadata": {},
   "source": [
    "## Python的多线程编程与threading模块"
   ]
  },
  {
   "cell_type": "code",
   "execution_count": null,
   "metadata": {},
   "outputs": [],
   "source": []
  }
 ],
 "metadata": {
  "kernelspec": {
   "display_name": "Python 3",
   "language": "python",
   "name": "python3"
  },
  "language_info": {
   "codemirror_mode": {
    "name": "ipython",
    "version": 3
   },
   "file_extension": ".py",
   "mimetype": "text/x-python",
   "name": "python",
   "nbconvert_exporter": "python",
   "pygments_lexer": "ipython3",
   "version": "3.7.1"
  }
 },
 "nbformat": 4,
 "nbformat_minor": 4
}
